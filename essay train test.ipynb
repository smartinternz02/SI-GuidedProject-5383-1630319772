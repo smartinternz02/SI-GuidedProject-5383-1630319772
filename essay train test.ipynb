{
  "nbformat": 4,
  "nbformat_minor": 0,
  "metadata": {
    "colab": {
      "name": "essay_scoring2.ipynb",
      "provenance": [],
      "collapsed_sections": []
    },
    "kernelspec": {
      "name": "python3",
      "display_name": "Python 3"
    },
    "language_info": {
      "name": "python"
    }
  },
  "cells": [
    {
      "cell_type": "code",
      "metadata": {
        "id": "srfQ9Z38ZD1e"
      },
      "source": [
        "import pandas as pd\n",
        "import numpy as np\n",
        "import nltk\n",
        "import re\n",
        "from nltk.corpus import stopwords\n",
        "from gensim.models import Word2Vec\n",
        "from sklearn.model_selection import train_test_split"
      ],
      "execution_count": null,
      "outputs": []
    },
    {
      "cell_type": "code",
      "metadata": {
        "colab": {
          "base_uri": "https://localhost:8080/"
        },
        "id": "1ci5BrlJZkLb",
        "outputId": "465d70c3-06e7-4393-f7e9-8c849e1cd224"
      },
      "source": [
        "nltk.download('punkt')\n",
        "nltk.download('stopwords')\n",
        "from nltk.corpus import stopwords"
      ],
      "execution_count": null,
      "outputs": [
        {
          "output_type": "stream",
          "name": "stdout",
          "text": [
            "[nltk_data] Downloading package punkt to /root/nltk_data...\n",
            "[nltk_data]   Package punkt is already up-to-date!\n",
            "[nltk_data] Downloading package stopwords to /root/nltk_data...\n",
            "[nltk_data]   Package stopwords is already up-to-date!\n"
          ]
        }
      ]
    },
    {
      "cell_type": "code",
      "metadata": {
        "id": "Tipw6Nh3Zr0S"
      },
      "source": [
        "data = pd.read_csv('/content/training_set_rel3.tsv', sep='\\t', encoding='ISO-8859-1')"
      ],
      "execution_count": null,
      "outputs": []
    },
    {
      "cell_type": "code",
      "metadata": {
        "colab": {
          "base_uri": "https://localhost:8080/",
          "height": 168
        },
        "id": "D1dDvQrMZv4n",
        "outputId": "8eff95c5-7501-4250-a00d-be0c87f14b8e"
      },
      "source": [
        "data.head(1)"
      ],
      "execution_count": null,
      "outputs": [
        {
          "output_type": "execute_result",
          "data": {
            "text/html": [
              "<div>\n",
              "<style scoped>\n",
              "    .dataframe tbody tr th:only-of-type {\n",
              "        vertical-align: middle;\n",
              "    }\n",
              "\n",
              "    .dataframe tbody tr th {\n",
              "        vertical-align: top;\n",
              "    }\n",
              "\n",
              "    .dataframe thead th {\n",
              "        text-align: right;\n",
              "    }\n",
              "</style>\n",
              "<table border=\"1\" class=\"dataframe\">\n",
              "  <thead>\n",
              "    <tr style=\"text-align: right;\">\n",
              "      <th></th>\n",
              "      <th>essay_id</th>\n",
              "      <th>essay_set</th>\n",
              "      <th>essay</th>\n",
              "      <th>rater1_domain1</th>\n",
              "      <th>rater2_domain1</th>\n",
              "      <th>rater3_domain1</th>\n",
              "      <th>domain1_score</th>\n",
              "      <th>rater1_domain2</th>\n",
              "      <th>rater2_domain2</th>\n",
              "      <th>domain2_score</th>\n",
              "      <th>rater1_trait1</th>\n",
              "      <th>rater1_trait2</th>\n",
              "      <th>rater1_trait3</th>\n",
              "      <th>rater1_trait4</th>\n",
              "      <th>rater1_trait5</th>\n",
              "      <th>rater1_trait6</th>\n",
              "      <th>rater2_trait1</th>\n",
              "      <th>rater2_trait2</th>\n",
              "      <th>rater2_trait3</th>\n",
              "      <th>rater2_trait4</th>\n",
              "      <th>rater2_trait5</th>\n",
              "      <th>rater2_trait6</th>\n",
              "      <th>rater3_trait1</th>\n",
              "      <th>rater3_trait2</th>\n",
              "      <th>rater3_trait3</th>\n",
              "      <th>rater3_trait4</th>\n",
              "      <th>rater3_trait5</th>\n",
              "      <th>rater3_trait6</th>\n",
              "    </tr>\n",
              "  </thead>\n",
              "  <tbody>\n",
              "    <tr>\n",
              "      <th>0</th>\n",
              "      <td>1</td>\n",
              "      <td>1</td>\n",
              "      <td>Dear local newspaper, I think effects computer...</td>\n",
              "      <td>4</td>\n",
              "      <td>4</td>\n",
              "      <td>NaN</td>\n",
              "      <td>8</td>\n",
              "      <td>NaN</td>\n",
              "      <td>NaN</td>\n",
              "      <td>NaN</td>\n",
              "      <td>NaN</td>\n",
              "      <td>NaN</td>\n",
              "      <td>NaN</td>\n",
              "      <td>NaN</td>\n",
              "      <td>NaN</td>\n",
              "      <td>NaN</td>\n",
              "      <td>NaN</td>\n",
              "      <td>NaN</td>\n",
              "      <td>NaN</td>\n",
              "      <td>NaN</td>\n",
              "      <td>NaN</td>\n",
              "      <td>NaN</td>\n",
              "      <td>NaN</td>\n",
              "      <td>NaN</td>\n",
              "      <td>NaN</td>\n",
              "      <td>NaN</td>\n",
              "      <td>NaN</td>\n",
              "      <td>NaN</td>\n",
              "    </tr>\n",
              "  </tbody>\n",
              "</table>\n",
              "</div>"
            ],
            "text/plain": [
              "   essay_id  essay_set  ... rater3_trait5  rater3_trait6\n",
              "0         1          1  ...           NaN            NaN\n",
              "\n",
              "[1 rows x 28 columns]"
            ]
          },
          "metadata": {},
          "execution_count": 4
        }
      ]
    },
    {
      "cell_type": "code",
      "metadata": {
        "colab": {
          "base_uri": "https://localhost:8080/"
        },
        "id": "54_5u_aDaL70",
        "outputId": "0c209122-aecf-41fe-8b29-7a803542d3c4"
      },
      "source": [
        "data.isnull().any()"
      ],
      "execution_count": null,
      "outputs": [
        {
          "output_type": "execute_result",
          "data": {
            "text/plain": [
              "essay_id          False\n",
              "essay_set         False\n",
              "essay             False\n",
              "rater1_domain1    False\n",
              "rater2_domain1    False\n",
              "rater3_domain1     True\n",
              "domain1_score     False\n",
              "rater1_domain2     True\n",
              "rater2_domain2     True\n",
              "domain2_score      True\n",
              "rater1_trait1      True\n",
              "rater1_trait2      True\n",
              "rater1_trait3      True\n",
              "rater1_trait4      True\n",
              "rater1_trait5      True\n",
              "rater1_trait6      True\n",
              "rater2_trait1      True\n",
              "rater2_trait2      True\n",
              "rater2_trait3      True\n",
              "rater2_trait4      True\n",
              "rater2_trait5      True\n",
              "rater2_trait6      True\n",
              "rater3_trait1      True\n",
              "rater3_trait2      True\n",
              "rater3_trait3      True\n",
              "rater3_trait4      True\n",
              "rater3_trait5      True\n",
              "rater3_trait6      True\n",
              "dtype: bool"
            ]
          },
          "metadata": {},
          "execution_count": 5
        }
      ]
    },
    {
      "cell_type": "code",
      "metadata": {
        "id": "4oiVzVFRaSoZ"
      },
      "source": [
        "data = data.dropna(axis=1)\n",
        "data = data.drop(columns=['rater1_domain1','rater2_domain1'])"
      ],
      "execution_count": null,
      "outputs": []
    },
    {
      "cell_type": "code",
      "metadata": {
        "colab": {
          "base_uri": "https://localhost:8080/",
          "height": 204
        },
        "id": "QNd9dqhIak-6",
        "outputId": "8a399e5f-109c-496a-9b67-5bc2e4a73d7e"
      },
      "source": [
        "data.head()"
      ],
      "execution_count": null,
      "outputs": [
        {
          "output_type": "execute_result",
          "data": {
            "text/html": [
              "<div>\n",
              "<style scoped>\n",
              "    .dataframe tbody tr th:only-of-type {\n",
              "        vertical-align: middle;\n",
              "    }\n",
              "\n",
              "    .dataframe tbody tr th {\n",
              "        vertical-align: top;\n",
              "    }\n",
              "\n",
              "    .dataframe thead th {\n",
              "        text-align: right;\n",
              "    }\n",
              "</style>\n",
              "<table border=\"1\" class=\"dataframe\">\n",
              "  <thead>\n",
              "    <tr style=\"text-align: right;\">\n",
              "      <th></th>\n",
              "      <th>essay_id</th>\n",
              "      <th>essay_set</th>\n",
              "      <th>essay</th>\n",
              "      <th>domain1_score</th>\n",
              "    </tr>\n",
              "  </thead>\n",
              "  <tbody>\n",
              "    <tr>\n",
              "      <th>0</th>\n",
              "      <td>1</td>\n",
              "      <td>1</td>\n",
              "      <td>Dear local newspaper, I think effects computer...</td>\n",
              "      <td>8</td>\n",
              "    </tr>\n",
              "    <tr>\n",
              "      <th>1</th>\n",
              "      <td>2</td>\n",
              "      <td>1</td>\n",
              "      <td>Dear @CAPS1 @CAPS2, I believe that using compu...</td>\n",
              "      <td>9</td>\n",
              "    </tr>\n",
              "    <tr>\n",
              "      <th>2</th>\n",
              "      <td>3</td>\n",
              "      <td>1</td>\n",
              "      <td>Dear, @CAPS1 @CAPS2 @CAPS3 More and more peopl...</td>\n",
              "      <td>7</td>\n",
              "    </tr>\n",
              "    <tr>\n",
              "      <th>3</th>\n",
              "      <td>4</td>\n",
              "      <td>1</td>\n",
              "      <td>Dear Local Newspaper, @CAPS1 I have found that...</td>\n",
              "      <td>10</td>\n",
              "    </tr>\n",
              "    <tr>\n",
              "      <th>4</th>\n",
              "      <td>5</td>\n",
              "      <td>1</td>\n",
              "      <td>Dear @LOCATION1, I know having computers has a...</td>\n",
              "      <td>8</td>\n",
              "    </tr>\n",
              "  </tbody>\n",
              "</table>\n",
              "</div>"
            ],
            "text/plain": [
              "   essay_id  ...  domain1_score\n",
              "0         1  ...              8\n",
              "1         2  ...              9\n",
              "2         3  ...              7\n",
              "3         4  ...             10\n",
              "4         5  ...              8\n",
              "\n",
              "[5 rows x 4 columns]"
            ]
          },
          "metadata": {},
          "execution_count": 7
        }
      ]
    },
    {
      "cell_type": "code",
      "metadata": {
        "id": "51wuZtIDao5U"
      },
      "source": [
        "x=data.iloc[:,0:3]\n",
        "y=data.iloc[:,3:4]"
      ],
      "execution_count": null,
      "outputs": []
    },
    {
      "cell_type": "code",
      "metadata": {
        "colab": {
          "base_uri": "https://localhost:8080/",
          "height": 419
        },
        "id": "ekr8vZSWa3Ad",
        "outputId": "084ffedf-f3d2-473b-d3b9-78ff2c5ae641"
      },
      "source": [
        "x"
      ],
      "execution_count": null,
      "outputs": [
        {
          "output_type": "execute_result",
          "data": {
            "text/html": [
              "<div>\n",
              "<style scoped>\n",
              "    .dataframe tbody tr th:only-of-type {\n",
              "        vertical-align: middle;\n",
              "    }\n",
              "\n",
              "    .dataframe tbody tr th {\n",
              "        vertical-align: top;\n",
              "    }\n",
              "\n",
              "    .dataframe thead th {\n",
              "        text-align: right;\n",
              "    }\n",
              "</style>\n",
              "<table border=\"1\" class=\"dataframe\">\n",
              "  <thead>\n",
              "    <tr style=\"text-align: right;\">\n",
              "      <th></th>\n",
              "      <th>essay_id</th>\n",
              "      <th>essay_set</th>\n",
              "      <th>essay</th>\n",
              "    </tr>\n",
              "  </thead>\n",
              "  <tbody>\n",
              "    <tr>\n",
              "      <th>0</th>\n",
              "      <td>1</td>\n",
              "      <td>1</td>\n",
              "      <td>Dear local newspaper, I think effects computer...</td>\n",
              "    </tr>\n",
              "    <tr>\n",
              "      <th>1</th>\n",
              "      <td>2</td>\n",
              "      <td>1</td>\n",
              "      <td>Dear @CAPS1 @CAPS2, I believe that using compu...</td>\n",
              "    </tr>\n",
              "    <tr>\n",
              "      <th>2</th>\n",
              "      <td>3</td>\n",
              "      <td>1</td>\n",
              "      <td>Dear, @CAPS1 @CAPS2 @CAPS3 More and more peopl...</td>\n",
              "    </tr>\n",
              "    <tr>\n",
              "      <th>3</th>\n",
              "      <td>4</td>\n",
              "      <td>1</td>\n",
              "      <td>Dear Local Newspaper, @CAPS1 I have found that...</td>\n",
              "    </tr>\n",
              "    <tr>\n",
              "      <th>4</th>\n",
              "      <td>5</td>\n",
              "      <td>1</td>\n",
              "      <td>Dear @LOCATION1, I know having computers has a...</td>\n",
              "    </tr>\n",
              "    <tr>\n",
              "      <th>...</th>\n",
              "      <td>...</td>\n",
              "      <td>...</td>\n",
              "      <td>...</td>\n",
              "    </tr>\n",
              "    <tr>\n",
              "      <th>12971</th>\n",
              "      <td>21626</td>\n",
              "      <td>8</td>\n",
              "      <td>In most stories mothers and daughters are eit...</td>\n",
              "    </tr>\n",
              "    <tr>\n",
              "      <th>12972</th>\n",
              "      <td>21628</td>\n",
              "      <td>8</td>\n",
              "      <td>I never understood the meaning laughter is th...</td>\n",
              "    </tr>\n",
              "    <tr>\n",
              "      <th>12973</th>\n",
              "      <td>21629</td>\n",
              "      <td>8</td>\n",
              "      <td>When you laugh, is @CAPS5 out of habit, or is ...</td>\n",
              "    </tr>\n",
              "    <tr>\n",
              "      <th>12974</th>\n",
              "      <td>21630</td>\n",
              "      <td>8</td>\n",
              "      <td>Trippin' on fen...</td>\n",
              "    </tr>\n",
              "    <tr>\n",
              "      <th>12975</th>\n",
              "      <td>21633</td>\n",
              "      <td>8</td>\n",
              "      <td>Many people believe that laughter can improve...</td>\n",
              "    </tr>\n",
              "  </tbody>\n",
              "</table>\n",
              "<p>12976 rows × 3 columns</p>\n",
              "</div>"
            ],
            "text/plain": [
              "       essay_id  essay_set                                              essay\n",
              "0             1          1  Dear local newspaper, I think effects computer...\n",
              "1             2          1  Dear @CAPS1 @CAPS2, I believe that using compu...\n",
              "2             3          1  Dear, @CAPS1 @CAPS2 @CAPS3 More and more peopl...\n",
              "3             4          1  Dear Local Newspaper, @CAPS1 I have found that...\n",
              "4             5          1  Dear @LOCATION1, I know having computers has a...\n",
              "...         ...        ...                                                ...\n",
              "12971     21626          8   In most stories mothers and daughters are eit...\n",
              "12972     21628          8   I never understood the meaning laughter is th...\n",
              "12973     21629          8  When you laugh, is @CAPS5 out of habit, or is ...\n",
              "12974     21630          8                                 Trippin' on fen...\n",
              "12975     21633          8   Many people believe that laughter can improve...\n",
              "\n",
              "[12976 rows x 3 columns]"
            ]
          },
          "metadata": {},
          "execution_count": 12
        }
      ]
    },
    {
      "cell_type": "code",
      "metadata": {
        "colab": {
          "base_uri": "https://localhost:8080/",
          "height": 419
        },
        "id": "0mCOo7S7a4az",
        "outputId": "065b7fbe-f004-4474-b01b-b51d27133bd7"
      },
      "source": [
        "y"
      ],
      "execution_count": null,
      "outputs": [
        {
          "output_type": "execute_result",
          "data": {
            "text/html": [
              "<div>\n",
              "<style scoped>\n",
              "    .dataframe tbody tr th:only-of-type {\n",
              "        vertical-align: middle;\n",
              "    }\n",
              "\n",
              "    .dataframe tbody tr th {\n",
              "        vertical-align: top;\n",
              "    }\n",
              "\n",
              "    .dataframe thead th {\n",
              "        text-align: right;\n",
              "    }\n",
              "</style>\n",
              "<table border=\"1\" class=\"dataframe\">\n",
              "  <thead>\n",
              "    <tr style=\"text-align: right;\">\n",
              "      <th></th>\n",
              "      <th>domain1_score</th>\n",
              "    </tr>\n",
              "  </thead>\n",
              "  <tbody>\n",
              "    <tr>\n",
              "      <th>0</th>\n",
              "      <td>8</td>\n",
              "    </tr>\n",
              "    <tr>\n",
              "      <th>1</th>\n",
              "      <td>9</td>\n",
              "    </tr>\n",
              "    <tr>\n",
              "      <th>2</th>\n",
              "      <td>7</td>\n",
              "    </tr>\n",
              "    <tr>\n",
              "      <th>3</th>\n",
              "      <td>10</td>\n",
              "    </tr>\n",
              "    <tr>\n",
              "      <th>4</th>\n",
              "      <td>8</td>\n",
              "    </tr>\n",
              "    <tr>\n",
              "      <th>...</th>\n",
              "      <td>...</td>\n",
              "    </tr>\n",
              "    <tr>\n",
              "      <th>12971</th>\n",
              "      <td>35</td>\n",
              "    </tr>\n",
              "    <tr>\n",
              "      <th>12972</th>\n",
              "      <td>32</td>\n",
              "    </tr>\n",
              "    <tr>\n",
              "      <th>12973</th>\n",
              "      <td>40</td>\n",
              "    </tr>\n",
              "    <tr>\n",
              "      <th>12974</th>\n",
              "      <td>40</td>\n",
              "    </tr>\n",
              "    <tr>\n",
              "      <th>12975</th>\n",
              "      <td>40</td>\n",
              "    </tr>\n",
              "  </tbody>\n",
              "</table>\n",
              "<p>12976 rows × 1 columns</p>\n",
              "</div>"
            ],
            "text/plain": [
              "       domain1_score\n",
              "0                  8\n",
              "1                  9\n",
              "2                  7\n",
              "3                 10\n",
              "4                  8\n",
              "...              ...\n",
              "12971             35\n",
              "12972             32\n",
              "12973             40\n",
              "12974             40\n",
              "12975             40\n",
              "\n",
              "[12976 rows x 1 columns]"
            ]
          },
          "metadata": {},
          "execution_count": 18
        }
      ]
    },
    {
      "cell_type": "code",
      "metadata": {
        "colab": {
          "base_uri": "https://localhost:8080/"
        },
        "id": "Lmz1Xx-Ma6ZE",
        "outputId": "da9a7957-fbd3-4bcb-e429-77929e7f648c"
      },
      "source": [
        "minsrc = []\n",
        "maxsrc = []\n",
        "for i in range(1,9):\n",
        "  minsrc.append(data[data['essay_set']==i]['domain1_score'].min())\n",
        "  maxsrc.append(data[data['essay_set']==i]['domain1_score'].max())\n",
        "print(\"minimum score= \",minsrc )\n",
        "print(\"maximum score= \",maxsrc )"
      ],
      "execution_count": null,
      "outputs": [
        {
          "output_type": "stream",
          "name": "stdout",
          "text": [
            "minimum score=  [2, 1, 0, 0, 0, 0, 2, 10]\n",
            "maximum score=  [12, 6, 3, 3, 4, 4, 24, 60]\n"
          ]
        }
      ]
    },
    {
      "cell_type": "code",
      "metadata": {
        "id": "JUgKhHYpbbYE"
      },
      "source": [
        "def essay_to_wordlist(essay_v):\n",
        "    essay_v = re.sub(\"[^a-zA-Z]\", \" \", essay_v)\n",
        "    words = essay_v.lower().split()\n",
        "    stops = set(stopwords.words(\"english\"))\n",
        "    words = [w for w in words if not w in stops]\n",
        "    return (words)\n",
        "\n",
        "#Tokenize the senstences and call essay_to_wordlist() for word tokenization.\n",
        "def essay_to_sentences(essay_v):\n",
        "    tokenizer = nltk.data.load('tokenizers/punkt/english.pickle')\n",
        "    raw_sentences = tokenizer.tokenize(essay_v.strip())\n",
        "    sentences = []\n",
        "    for raw_sentence in raw_sentences:\n",
        "        if len(raw_sentence) > 0:\n",
        "            sentences.append(essay_to_wordlist(raw_sentence))\n",
        "    return sentences"
      ],
      "execution_count": null,
      "outputs": []
    },
    {
      "cell_type": "code",
      "metadata": {
        "id": "u-MTtYbkbkka"
      },
      "source": [
        "#Feature vector is made from the words list of an essay.\n",
        "def makeFeatureVec(words, model, num_features):\n",
        "    featureVec = np.zeros((num_features,),dtype=\"float32\")\n",
        "    num_words = 0.\n",
        "    index2word_set = set(model.wv.index2entity)\n",
        "    for word in words:\n",
        "        if word in index2word_set:\n",
        "            num_words += 1\n",
        "            featureVec = np.add(featureVec,model.wv[word])        \n",
        "    featureVec = np.divide(featureVec,num_words)\n",
        "    return featureVec\n",
        "\n",
        "#Word vectors are generated for Word2Vec model\n",
        "def getAvgFeatureVecs(essays, model, num_features):\n",
        "    counter = 0\n",
        "    essayFeatureVecs = np.zeros((len(essays),num_features),dtype=\"float32\")\n",
        "    for essay in essays:\n",
        "        essayFeatureVecs[counter] = makeFeatureVec(essay, model, num_features)\n",
        "        counter = counter + 1\n",
        "    return essayFeatureVecs"
      ],
      "execution_count": null,
      "outputs": []
    },
    {
      "cell_type": "code",
      "metadata": {
        "id": "FmAQkbEMbm6v"
      },
      "source": [
        "x_train, x_test, y_train, y_test = train_test_split(x, y, test_size=0.2, random_state = 0)"
      ],
      "execution_count": null,
      "outputs": []
    },
    {
      "cell_type": "code",
      "metadata": {
        "colab": {
          "base_uri": "https://localhost:8080/"
        },
        "id": "QBuq3I4TbrTV",
        "outputId": "7c240d00-90bf-4ccf-d4ad-9f2731e3a173"
      },
      "source": [
        "x_train.shape"
      ],
      "execution_count": null,
      "outputs": [
        {
          "output_type": "execute_result",
          "data": {
            "text/plain": [
              "(10380, 3)"
            ]
          },
          "metadata": {},
          "execution_count": 23
        }
      ]
    },
    {
      "cell_type": "code",
      "metadata": {
        "colab": {
          "base_uri": "https://localhost:8080/"
        },
        "id": "QwqGThpbbu52",
        "outputId": "23a6245a-c47e-4ea9-8e57-f19ec9bceeb6"
      },
      "source": [
        "x_test.shape"
      ],
      "execution_count": null,
      "outputs": [
        {
          "output_type": "execute_result",
          "data": {
            "text/plain": [
              "(2596, 3)"
            ]
          },
          "metadata": {},
          "execution_count": 24
        }
      ]
    },
    {
      "cell_type": "code",
      "metadata": {
        "id": "KyuyVSqrbxoo"
      },
      "source": [
        "train_essays = x_train['essay']\n",
        "test_essays = x_test['essay']"
      ],
      "execution_count": null,
      "outputs": []
    },
    {
      "cell_type": "code",
      "metadata": {
        "id": "4uK-7aJJb31C"
      },
      "source": [
        "sentences = []\n",
        "# Obtaining all sentences from the training essays.\n",
        "for essay in train_essays:\n",
        "    sentences += essay_to_sentences(essay)"
      ],
      "execution_count": null,
      "outputs": []
    },
    {
      "cell_type": "code",
      "metadata": {
        "colab": {
          "base_uri": "https://localhost:8080/"
        },
        "id": "vw76WzjVb6QV",
        "outputId": "317e0b94-837d-4b38-b039-25c2aee50986"
      },
      "source": [
        "sentences[0]"
      ],
      "execution_count": null,
      "outputs": [
        {
          "output_type": "execute_result",
          "data": {
            "text/plain": [
              "['essay', 'author', 'talking', 'journey']"
            ]
          },
          "metadata": {},
          "execution_count": 28
        }
      ]
    },
    {
      "cell_type": "code",
      "metadata": {
        "id": "6loXkpP6cB9U"
      },
      "source": [
        "model = Word2Vec(sentences, workers = 4, size= 300, min_count= 40, window = 10, sample = 1e-3)"
      ],
      "execution_count": null,
      "outputs": []
    },
    {
      "cell_type": "code",
      "metadata": {
        "id": "l4c1IYL4cq40"
      },
      "source": [
        "model.wv.save_word2vec_format('word2vecmodel.bin', binary=True)"
      ],
      "execution_count": null,
      "outputs": []
    },
    {
      "cell_type": "code",
      "metadata": {
        "id": "JiOH9mlAdQc7"
      },
      "source": [
        "clean_train_essays = []\n",
        "for essay_v in train_essays:\n",
        "        clean_train_essays.append(essay_to_wordlist(essay_v))\n",
        "trainDataVecs = getAvgFeatureVecs(clean_train_essays, model, 300)\n",
        " \n",
        "#get the testing vectors\n",
        "clean_test_essays = []\n",
        "for essay_v in test_essays:\n",
        "    clean_test_essays.append(essay_to_wordlist( essay_v))\n",
        "testDataVecs = getAvgFeatureVecs( clean_test_essays, model, 300 )\n",
        "    \n",
        "#convert the vectors to numpy array\n",
        "trainDataVecs = np.array(trainDataVecs)\n",
        "testDataVecs = np.array(testDataVecs)\n",
        "\n",
        "# Reshaping train and test vectors to 3 dimensions. (1 represnts one timestep)\n",
        "trainDataVecs = np.reshape(trainDataVecs, (trainDataVecs.shape[0], 1, trainDataVecs.shape[1]))\n",
        "testDataVecs = np.reshape(testDataVecs, (testDataVecs.shape[0], 1, testDataVecs.shape[1]))"
      ],
      "execution_count": null,
      "outputs": []
    },
    {
      "cell_type": "code",
      "metadata": {
        "id": "P76yf4rPdZLu"
      },
      "source": [
        "from keras.layers import Embedding, LSTM, Dense, Dropout, Lambda, Flatten\n",
        "from keras.models import Sequential, load_model, model_from_config\n",
        "import keras.backend as K"
      ],
      "execution_count": null,
      "outputs": []
    },
    {
      "cell_type": "code",
      "metadata": {
        "id": "BWihHnghjUay"
      },
      "source": [
        "model = Sequential()"
      ],
      "execution_count": null,
      "outputs": []
    },
    {
      "cell_type": "code",
      "metadata": {
        "id": "NqZz_cZWfKYB"
      },
      "source": [
        "model = Sequential()\n",
        "model.add(LSTM(300,dropout=0.4, recurrent_dropout=0.4, input_shape=[1,300], return_sequences=True))\n",
        "model.add(LSTM(64, recurrent_dropout=0.4))\n",
        "model.add(Dropout(0.5))\n",
        "model.add(Dense(1,activation='relu'))"
      ],
      "execution_count": null,
      "outputs": []
    },
    {
      "cell_type": "code",
      "metadata": {
        "id": "iLrRzkhifODO"
      },
      "source": [
        "model.compile(loss='mean_squared_error', optimizer='rmsprop', metrics=['mae'])"
      ],
      "execution_count": null,
      "outputs": []
    },
    {
      "cell_type": "code",
      "metadata": {
        "colab": {
          "base_uri": "https://localhost:8080/"
        },
        "id": "Tiz_5xWzfURj",
        "outputId": "01810bab-a40c-4b4a-a729-b0bfd55d25c9"
      },
      "source": [
        "model.fit(trainDataVecs, y_train, batch_size=64, epochs = 100)"
      ],
      "execution_count": null,
      "outputs": [
        {
          "output_type": "stream",
          "name": "stdout",
          "text": [
            "Epoch 1/100\n",
            "163/163 [==============================] - 8s 25ms/step - loss: 51.8935 - mae: 3.6380\n",
            "Epoch 2/100\n",
            "163/163 [==============================] - 4s 25ms/step - loss: 28.0224 - mae: 2.4557\n",
            "Epoch 3/100\n",
            "163/163 [==============================] - 4s 25ms/step - loss: 18.4797 - mae: 2.1077\n",
            "Epoch 4/100\n",
            "163/163 [==============================] - 4s 25ms/step - loss: 12.6890 - mae: 1.8561\n",
            "Epoch 5/100\n",
            "163/163 [==============================] - 4s 25ms/step - loss: 10.1816 - mae: 1.7022\n",
            "Epoch 6/100\n",
            "163/163 [==============================] - 4s 25ms/step - loss: 9.1130 - mae: 1.6300\n",
            "Epoch 7/100\n",
            "163/163 [==============================] - 4s 25ms/step - loss: 8.4435 - mae: 1.5657\n",
            "Epoch 8/100\n",
            "163/163 [==============================] - 4s 25ms/step - loss: 7.8569 - mae: 1.5142\n",
            "Epoch 9/100\n",
            "163/163 [==============================] - 4s 25ms/step - loss: 7.7349 - mae: 1.5185\n",
            "Epoch 10/100\n",
            "163/163 [==============================] - 4s 25ms/step - loss: 7.5353 - mae: 1.4778\n",
            "Epoch 11/100\n",
            "163/163 [==============================] - 4s 26ms/step - loss: 7.6012 - mae: 1.4929\n",
            "Epoch 12/100\n",
            "163/163 [==============================] - 4s 25ms/step - loss: 7.4493 - mae: 1.4664\n",
            "Epoch 13/100\n",
            "163/163 [==============================] - 4s 25ms/step - loss: 7.3357 - mae: 1.4544\n",
            "Epoch 14/100\n",
            "163/163 [==============================] - 4s 25ms/step - loss: 7.2731 - mae: 1.4358\n",
            "Epoch 15/100\n",
            "163/163 [==============================] - 4s 25ms/step - loss: 6.6872 - mae: 1.4153\n",
            "Epoch 16/100\n",
            "163/163 [==============================] - 4s 25ms/step - loss: 7.1467 - mae: 1.4375\n",
            "Epoch 17/100\n",
            "163/163 [==============================] - 4s 25ms/step - loss: 7.1898 - mae: 1.4277\n",
            "Epoch 18/100\n",
            "163/163 [==============================] - 4s 25ms/step - loss: 6.6318 - mae: 1.3903\n",
            "Epoch 19/100\n",
            "163/163 [==============================] - 4s 25ms/step - loss: 6.7797 - mae: 1.4002\n",
            "Epoch 20/100\n",
            "163/163 [==============================] - 4s 25ms/step - loss: 6.7351 - mae: 1.3902\n",
            "Epoch 21/100\n",
            "163/163 [==============================] - 4s 25ms/step - loss: 6.8340 - mae: 1.3888\n",
            "Epoch 22/100\n",
            "163/163 [==============================] - 4s 25ms/step - loss: 6.4545 - mae: 1.3674\n",
            "Epoch 23/100\n",
            "163/163 [==============================] - 4s 25ms/step - loss: 6.5578 - mae: 1.3699\n",
            "Epoch 24/100\n",
            "163/163 [==============================] - 4s 24ms/step - loss: 6.5869 - mae: 1.3703\n",
            "Epoch 25/100\n",
            "163/163 [==============================] - 4s 25ms/step - loss: 6.4811 - mae: 1.3557\n",
            "Epoch 26/100\n",
            "163/163 [==============================] - 4s 25ms/step - loss: 6.3028 - mae: 1.3615\n",
            "Epoch 27/100\n",
            "163/163 [==============================] - 4s 25ms/step - loss: 6.3443 - mae: 1.3330\n",
            "Epoch 28/100\n",
            "163/163 [==============================] - 4s 25ms/step - loss: 5.9958 - mae: 1.3260\n",
            "Epoch 29/100\n",
            "163/163 [==============================] - 4s 25ms/step - loss: 6.0541 - mae: 1.3258\n",
            "Epoch 30/100\n",
            "163/163 [==============================] - 4s 25ms/step - loss: 6.1224 - mae: 1.3187\n",
            "Epoch 31/100\n",
            "163/163 [==============================] - 4s 25ms/step - loss: 6.1208 - mae: 1.3162\n",
            "Epoch 32/100\n",
            "163/163 [==============================] - 4s 25ms/step - loss: 6.0865 - mae: 1.3306\n",
            "Epoch 33/100\n",
            "163/163 [==============================] - 4s 25ms/step - loss: 6.0171 - mae: 1.3202\n",
            "Epoch 34/100\n",
            "163/163 [==============================] - 4s 25ms/step - loss: 5.9492 - mae: 1.2999\n",
            "Epoch 35/100\n",
            "163/163 [==============================] - 4s 25ms/step - loss: 6.0720 - mae: 1.3118\n",
            "Epoch 36/100\n",
            "163/163 [==============================] - 4s 26ms/step - loss: 5.8880 - mae: 1.3028\n",
            "Epoch 37/100\n",
            "163/163 [==============================] - 4s 25ms/step - loss: 6.1290 - mae: 1.3188\n",
            "Epoch 38/100\n",
            "163/163 [==============================] - 4s 25ms/step - loss: 5.8334 - mae: 1.2960\n",
            "Epoch 39/100\n",
            "163/163 [==============================] - 4s 25ms/step - loss: 5.7156 - mae: 1.2904\n",
            "Epoch 40/100\n",
            "163/163 [==============================] - 4s 25ms/step - loss: 5.8690 - mae: 1.2915\n",
            "Epoch 41/100\n",
            "163/163 [==============================] - 4s 26ms/step - loss: 5.7014 - mae: 1.2771\n",
            "Epoch 42/100\n",
            "163/163 [==============================] - 4s 25ms/step - loss: 5.8614 - mae: 1.2940\n",
            "Epoch 43/100\n",
            "163/163 [==============================] - 4s 25ms/step - loss: 5.7911 - mae: 1.2880\n",
            "Epoch 44/100\n",
            "163/163 [==============================] - 4s 25ms/step - loss: 5.6770 - mae: 1.2876\n",
            "Epoch 45/100\n",
            "163/163 [==============================] - 4s 25ms/step - loss: 5.5999 - mae: 1.2719\n",
            "Epoch 46/100\n",
            "163/163 [==============================] - 4s 25ms/step - loss: 5.3937 - mae: 1.2579\n",
            "Epoch 47/100\n",
            "163/163 [==============================] - 4s 26ms/step - loss: 5.6591 - mae: 1.2690\n",
            "Epoch 48/100\n",
            "163/163 [==============================] - 4s 26ms/step - loss: 5.4493 - mae: 1.2622\n",
            "Epoch 49/100\n",
            "163/163 [==============================] - 4s 25ms/step - loss: 5.5258 - mae: 1.2695\n",
            "Epoch 50/100\n",
            "163/163 [==============================] - 4s 25ms/step - loss: 5.7008 - mae: 1.2754\n",
            "Epoch 51/100\n",
            "163/163 [==============================] - 4s 25ms/step - loss: 5.3153 - mae: 1.2462\n",
            "Epoch 52/100\n",
            "163/163 [==============================] - 4s 25ms/step - loss: 5.5970 - mae: 1.2567\n",
            "Epoch 53/100\n",
            "163/163 [==============================] - 4s 26ms/step - loss: 5.6524 - mae: 1.2626\n",
            "Epoch 54/100\n",
            "163/163 [==============================] - 4s 26ms/step - loss: 5.6441 - mae: 1.2625\n",
            "Epoch 55/100\n",
            "163/163 [==============================] - 4s 25ms/step - loss: 5.6429 - mae: 1.2683\n",
            "Epoch 56/100\n",
            "163/163 [==============================] - 4s 25ms/step - loss: 5.3718 - mae: 1.2384\n",
            "Epoch 57/100\n",
            "163/163 [==============================] - 4s 25ms/step - loss: 5.1933 - mae: 1.2348\n",
            "Epoch 58/100\n",
            "163/163 [==============================] - 4s 25ms/step - loss: 5.5187 - mae: 1.2530\n",
            "Epoch 59/100\n",
            "163/163 [==============================] - 4s 26ms/step - loss: 5.2385 - mae: 1.2387\n",
            "Epoch 60/100\n",
            "163/163 [==============================] - 4s 25ms/step - loss: 5.2457 - mae: 1.2352\n",
            "Epoch 61/100\n",
            "163/163 [==============================] - 4s 25ms/step - loss: 5.0561 - mae: 1.2208\n",
            "Epoch 62/100\n",
            "163/163 [==============================] - 4s 26ms/step - loss: 4.9891 - mae: 1.2109\n",
            "Epoch 63/100\n",
            "163/163 [==============================] - 4s 25ms/step - loss: 5.3994 - mae: 1.2429\n",
            "Epoch 64/100\n",
            "163/163 [==============================] - 4s 25ms/step - loss: 5.0871 - mae: 1.2093\n",
            "Epoch 65/100\n",
            "163/163 [==============================] - 4s 25ms/step - loss: 5.1787 - mae: 1.2263\n",
            "Epoch 66/100\n",
            "163/163 [==============================] - 4s 25ms/step - loss: 5.3531 - mae: 1.2430\n",
            "Epoch 67/100\n",
            "163/163 [==============================] - 4s 26ms/step - loss: 5.1016 - mae: 1.2152\n",
            "Epoch 68/100\n",
            "163/163 [==============================] - 4s 25ms/step - loss: 5.1357 - mae: 1.2177\n",
            "Epoch 69/100\n",
            "163/163 [==============================] - 4s 26ms/step - loss: 4.9794 - mae: 1.2160\n",
            "Epoch 70/100\n",
            "163/163 [==============================] - 4s 26ms/step - loss: 5.0795 - mae: 1.2181\n",
            "Epoch 71/100\n",
            "163/163 [==============================] - 4s 26ms/step - loss: 5.0907 - mae: 1.2135\n",
            "Epoch 72/100\n",
            "163/163 [==============================] - 4s 26ms/step - loss: 5.0576 - mae: 1.2147\n",
            "Epoch 73/100\n",
            "163/163 [==============================] - 4s 26ms/step - loss: 5.1792 - mae: 1.2132\n",
            "Epoch 74/100\n",
            "163/163 [==============================] - 4s 26ms/step - loss: 4.9773 - mae: 1.2076\n",
            "Epoch 75/100\n",
            "163/163 [==============================] - 4s 26ms/step - loss: 5.1744 - mae: 1.2185\n",
            "Epoch 76/100\n",
            "163/163 [==============================] - 4s 26ms/step - loss: 5.1208 - mae: 1.2245\n",
            "Epoch 77/100\n",
            "163/163 [==============================] - 4s 26ms/step - loss: 5.2361 - mae: 1.2310\n",
            "Epoch 78/100\n",
            "163/163 [==============================] - 4s 26ms/step - loss: 4.8313 - mae: 1.2030\n",
            "Epoch 79/100\n",
            "163/163 [==============================] - 4s 26ms/step - loss: 5.0456 - mae: 1.2059\n",
            "Epoch 80/100\n",
            "163/163 [==============================] - 4s 25ms/step - loss: 5.0353 - mae: 1.2095\n",
            "Epoch 81/100\n",
            "163/163 [==============================] - 4s 26ms/step - loss: 5.1160 - mae: 1.2193\n",
            "Epoch 82/100\n",
            "163/163 [==============================] - 4s 26ms/step - loss: 4.7548 - mae: 1.1880\n",
            "Epoch 83/100\n",
            "163/163 [==============================] - 4s 26ms/step - loss: 5.1743 - mae: 1.2159\n",
            "Epoch 84/100\n",
            "163/163 [==============================] - 4s 26ms/step - loss: 4.8071 - mae: 1.2009\n",
            "Epoch 85/100\n",
            "163/163 [==============================] - 4s 26ms/step - loss: 5.0577 - mae: 1.2187\n",
            "Epoch 86/100\n",
            "163/163 [==============================] - 4s 26ms/step - loss: 4.7611 - mae: 1.2036\n",
            "Epoch 87/100\n",
            "163/163 [==============================] - 4s 26ms/step - loss: 4.6941 - mae: 1.1836\n",
            "Epoch 88/100\n",
            "163/163 [==============================] - 4s 26ms/step - loss: 4.6808 - mae: 1.1824\n",
            "Epoch 89/100\n",
            "163/163 [==============================] - 4s 26ms/step - loss: 4.8319 - mae: 1.2042\n",
            "Epoch 90/100\n",
            "163/163 [==============================] - 4s 26ms/step - loss: 4.6726 - mae: 1.1846\n",
            "Epoch 91/100\n",
            "163/163 [==============================] - 4s 26ms/step - loss: 4.9748 - mae: 1.2048\n",
            "Epoch 92/100\n",
            "163/163 [==============================] - 4s 26ms/step - loss: 4.6067 - mae: 1.1691\n",
            "Epoch 93/100\n",
            "163/163 [==============================] - 4s 26ms/step - loss: 4.5797 - mae: 1.1778\n",
            "Epoch 94/100\n",
            "163/163 [==============================] - 4s 26ms/step - loss: 4.7616 - mae: 1.1899\n",
            "Epoch 95/100\n",
            "163/163 [==============================] - 4s 26ms/step - loss: 4.6621 - mae: 1.1833\n",
            "Epoch 96/100\n",
            "163/163 [==============================] - 4s 26ms/step - loss: 4.8321 - mae: 1.1938\n",
            "Epoch 97/100\n",
            "163/163 [==============================] - 4s 26ms/step - loss: 4.6925 - mae: 1.1922\n",
            "Epoch 98/100\n",
            "163/163 [==============================] - 4s 26ms/step - loss: 4.7314 - mae: 1.1851\n",
            "Epoch 99/100\n",
            "163/163 [==============================] - 4s 26ms/step - loss: 4.6469 - mae: 1.1841\n",
            "Epoch 100/100\n",
            "163/163 [==============================] - 4s 25ms/step - loss: 4.4817 - mae: 1.1671\n"
          ]
        },
        {
          "output_type": "execute_result",
          "data": {
            "text/plain": [
              "<keras.callbacks.History at 0x7f7e61bdddd0>"
            ]
          },
          "metadata": {},
          "execution_count": 80
        }
      ]
    },
    {
      "cell_type": "code",
      "metadata": {
        "colab": {
          "base_uri": "https://localhost:8080/"
        },
        "id": "GztujjGYffzw",
        "outputId": "ccf5062d-4127-4a10-fed0-9620a17f0b9d"
      },
      "source": [
        "testDataVecs.shape"
      ],
      "execution_count": null,
      "outputs": [
        {
          "output_type": "execute_result",
          "data": {
            "text/plain": [
              "(2596, 1, 300)"
            ]
          },
          "metadata": {},
          "execution_count": 58
        }
      ]
    },
    {
      "cell_type": "code",
      "metadata": {
        "colab": {
          "base_uri": "https://localhost:8080/"
        },
        "id": "IAweeYoygFRx",
        "outputId": "5b042d5b-e574-4a5c-f5b4-deb62d466100"
      },
      "source": [
        "y_train.shape"
      ],
      "execution_count": null,
      "outputs": [
        {
          "output_type": "execute_result",
          "data": {
            "text/plain": [
              "(10380, 1)"
            ]
          },
          "metadata": {},
          "execution_count": 59
        }
      ]
    },
    {
      "cell_type": "code",
      "metadata": {
        "id": "in3HrDMPgI5h"
      },
      "source": [
        "ypred = model.predict(testDataVecs)"
      ],
      "execution_count": null,
      "outputs": []
    },
    {
      "cell_type": "code",
      "metadata": {
        "colab": {
          "base_uri": "https://localhost:8080/"
        },
        "id": "gVqfcvZ7gPN_",
        "outputId": "7d5886f0-d95e-4083-c433-c488a2824d64"
      },
      "source": [
        "ypred"
      ],
      "execution_count": null,
      "outputs": [
        {
          "output_type": "execute_result",
          "data": {
            "text/plain": [
              "array([[12.615318 ],\n",
              "       [15.47917  ],\n",
              "       [ 3.1516871],\n",
              "       ...,\n",
              "       [ 1.917428 ],\n",
              "       [ 2.8116941],\n",
              "       [ 2.8596215]], dtype=float32)"
            ]
          },
          "metadata": {},
          "execution_count": 83
        }
      ]
    },
    {
      "cell_type": "code",
      "metadata": {
        "colab": {
          "base_uri": "https://localhost:8080/",
          "height": 419
        },
        "id": "YjohiIQBgQi2",
        "outputId": "11e42f7a-3238-4266-fad9-b3f58db6033f"
      },
      "source": [
        "y_test"
      ],
      "execution_count": null,
      "outputs": [
        {
          "output_type": "execute_result",
          "data": {
            "text/html": [
              "<div>\n",
              "<style scoped>\n",
              "    .dataframe tbody tr th:only-of-type {\n",
              "        vertical-align: middle;\n",
              "    }\n",
              "\n",
              "    .dataframe tbody tr th {\n",
              "        vertical-align: top;\n",
              "    }\n",
              "\n",
              "    .dataframe thead th {\n",
              "        text-align: right;\n",
              "    }\n",
              "</style>\n",
              "<table border=\"1\" class=\"dataframe\">\n",
              "  <thead>\n",
              "    <tr style=\"text-align: right;\">\n",
              "      <th></th>\n",
              "      <th>domain1_score</th>\n",
              "    </tr>\n",
              "  </thead>\n",
              "  <tbody>\n",
              "    <tr>\n",
              "      <th>10823</th>\n",
              "      <td>15</td>\n",
              "    </tr>\n",
              "    <tr>\n",
              "      <th>11018</th>\n",
              "      <td>17</td>\n",
              "    </tr>\n",
              "    <tr>\n",
              "      <th>2263</th>\n",
              "      <td>4</td>\n",
              "    </tr>\n",
              "    <tr>\n",
              "      <th>11074</th>\n",
              "      <td>20</td>\n",
              "    </tr>\n",
              "    <tr>\n",
              "      <th>12491</th>\n",
              "      <td>33</td>\n",
              "    </tr>\n",
              "    <tr>\n",
              "      <th>...</th>\n",
              "      <td>...</td>\n",
              "    </tr>\n",
              "    <tr>\n",
              "      <th>6906</th>\n",
              "      <td>2</td>\n",
              "    </tr>\n",
              "    <tr>\n",
              "      <th>8418</th>\n",
              "      <td>3</td>\n",
              "    </tr>\n",
              "    <tr>\n",
              "      <th>5226</th>\n",
              "      <td>2</td>\n",
              "    </tr>\n",
              "    <tr>\n",
              "      <th>8992</th>\n",
              "      <td>3</td>\n",
              "    </tr>\n",
              "    <tr>\n",
              "      <th>2584</th>\n",
              "      <td>2</td>\n",
              "    </tr>\n",
              "  </tbody>\n",
              "</table>\n",
              "<p>2596 rows × 1 columns</p>\n",
              "</div>"
            ],
            "text/plain": [
              "       domain1_score\n",
              "10823             15\n",
              "11018             17\n",
              "2263               4\n",
              "11074             20\n",
              "12491             33\n",
              "...              ...\n",
              "6906               2\n",
              "8418               3\n",
              "5226               2\n",
              "8992               3\n",
              "2584               2\n",
              "\n",
              "[2596 rows x 1 columns]"
            ]
          },
          "metadata": {},
          "execution_count": 62
        }
      ]
    },
    {
      "cell_type": "code",
      "metadata": {
        "id": "ABxjwmTsgZUb"
      },
      "source": [
        "model.save('final_lstm.h5')"
      ],
      "execution_count": null,
      "outputs": []
    },
    {
      "cell_type": "code",
      "metadata": {
        "colab": {
          "base_uri": "https://localhost:8080/"
        },
        "id": "cdxgpRd5hf9y",
        "outputId": "80ef6cef-df94-4635-d263-2e7a1e813b37"
      },
      "source": [
        "from sklearn.metrics import r2_score\n",
        "accuracy = r2_score(y_test,ypred)\n",
        "accuracy"
      ],
      "execution_count": null,
      "outputs": [
        {
          "output_type": "execute_result",
          "data": {
            "text/plain": [
              "0.939725818586611"
            ]
          },
          "metadata": {},
          "execution_count": 81
        }
      ]
    },
    {
      "cell_type": "code",
      "metadata": {
        "id": "W_igBmEeiMR9"
      },
      "source": [
        "\n",
        "import gensim.models.keyedvectors as word2vec"
      ],
      "execution_count": null,
      "outputs": []
    },
    {
      "cell_type": "code",
      "metadata": {
        "id": "SXP2LGQ9iPtW"
      },
      "source": [
        "testsen='''Dear local newspaper, I\\'ve heard that not many people think computers benefit society. I disagree with that. Computers benefit society by teaching hand-eye coordination, allowing people to learn about foregin places, and allow people to communicate with others online. Some people were basically born with hand-eye coordination, but most people weren\\'t, like me, for example. But, thanks to computers, my hand-eye coordination has gone up! \"On average, computers can increase a persons hand-eye coordination by up to @PERCENT1 says @PERSON2. Think of it, just by learning to tye, your hand-eye coordination can go up @PERCENT1.! That\\'s amazing! Having good hand-eye coordination will get you far in life, and helps with small, everyday things such as playing an instrument, or doing household chores. It also helps in sports. You need good hand-eye coordination to throw, catch, and aim. If more people spend more time on the computer, then the population\\'s hand-eye coordination would increase, and who wouldn\\'t want thats. Have you ever heard of @LOCATION1? It is a country in @LOCATION2 that no one really knows much about. By looking it up on the computer, you can become an expert on the country! The computer gives us access to a lot of knowledge, and will make us more of people around the world. This can improve our travel. Instead of going to the same place every vacation, you can go to a place you saw online that looks just as exciting. Also, by learning about other countries and the people in them, we gain respect for them. We @MONTH1 also learn about their traditions, and culture. \"The internet gives us access to the world,\" says @PERSON1, \"we can learn so many new things that will make us more of people, countries, and the environment.\" @CAPS1 is right, we can also be aware of the environment. Since global warming is a problem, we can learn how o preserve foreign places by learning about them on the internet. With a click of a mouse you can virtually have the whose world at your fingertips! In a recent study @PERCENT2 of people said they don\\'t have time to meet with old friends. The internet, however has made it quick and easy to talk to people online. Websites like @CAPS2, @CAPS3, and @CAPS4 can keep your social life in tact, and can even reunite yu with old friends. For example, @CAPS2 suggest family. You can keep in touch wih many people trough @CAPS2! Also, you can make new friends. Most teens say they are always willing to meet new people, and the internet is a great way to do so! Sites like @CAPS7, and @CAPS8 can can help you find friends by connecting you in a chat room to a random person, just to talk. I once talked with someone on @CAPS7 for over an hour! We found that we both have @CAPS4 accounts and keep in touch there! This also helps you gain confidence because you @MONTH1 have the courage to say something over the computer that you would\\'t say real life. The computer can really amp up your social life. As you can see. computers don\\'t just \"your barain,\" they imprdove hand-eye coordination, help you learn about far away places, and improve your social life by allowing you to talk to others. Computers benefit the society more than anymore will ever know!'''"
      ],
      "execution_count": null,
      "outputs": []
    },
    {
      "cell_type": "code",
      "metadata": {
        "id": "9NLipThwiUeg"
      },
      "source": [
        "model1 = word2vec.KeyedVectors.load_word2vec_format('word2vecmodel.bin', binary=True)\n",
        "index2word_set = set(model1.index2entity)"
      ],
      "execution_count": null,
      "outputs": []
    },
    {
      "cell_type": "code",
      "metadata": {
        "id": "LLvzvM_tiaAQ"
      },
      "source": [
        "testsen2 = re.sub(\"[^a-zA-Z]\", \" \", testsen)\n",
        "testsen2 = essay_v.lower()\n",
        "featureVec = np.zeros((300,),dtype=\"float32\")\n",
        "for word in testsen2:\n",
        "        if word in index2word_set:\n",
        "            featureVec = np.add(featureVec,model1[word])"
      ],
      "execution_count": null,
      "outputs": []
    },
    {
      "cell_type": "code",
      "metadata": {
        "id": "0KfgozMIiio1"
      },
      "source": [
        "featureVec.shape\n",
        "avc=featureVec.reshape(1,1,300)"
      ],
      "execution_count": null,
      "outputs": []
    },
    {
      "cell_type": "code",
      "metadata": {
        "id": "mo3tkPpximFy"
      },
      "source": [
        "from keras.models  import load_model\n",
        "model2 = load_model(\"final_lstm.h5\")"
      ],
      "execution_count": null,
      "outputs": []
    },
    {
      "cell_type": "code",
      "metadata": {
        "id": "ZkvreBFyissR"
      },
      "source": [
        "y_pred = model2.predict(avc)"
      ],
      "execution_count": null,
      "outputs": []
    },
    {
      "cell_type": "code",
      "metadata": {
        "colab": {
          "base_uri": "https://localhost:8080/"
        },
        "id": "y7EVKeFXiuf8",
        "outputId": "44020fb0-09bb-4bf9-917b-56d698733790"
      },
      "source": [
        "y_pred"
      ],
      "execution_count": null,
      "outputs": [
        {
          "output_type": "execute_result",
          "data": {
            "text/plain": [
              "array([[4.0548315]], dtype=float32)"
            ]
          },
          "metadata": {},
          "execution_count": 95
        }
      ]
    },
    {
      "cell_type": "code",
      "metadata": {
        "id": "m5hNfdXDiw_I"
      },
      "source": [
        ""
      ],
      "execution_count": null,
      "outputs": []
    }
  ]
}