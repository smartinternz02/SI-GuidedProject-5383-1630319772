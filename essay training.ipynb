import pandas as pd
import numpy as np
import nltk
import re
from nltk.corpus import stopwords
from gensim.models import Word2Vec
from sklearn.model_selection import train_test_split

data = pd.read_csv('/content/training_set_rel3.tsv', sep='\t', encoding='ISO-8859-1')
data.head(1)
data.isnull().any()
data['essay_set'].value_counts()
data = data.drop(columns=['rater1_domain1', 'rater2_domain1'])
minsrc = []
maxsrc = []
for i in range(1, 9):
    minsrc.append(data[data['essay_set'] == i]['domain1_score'].min())
    maxsrc.append(data[data['essay_set'] == i]['domain1_score'].max())
print("minimum score= ", minsrc)
print("maximum score= ", maxsrc)
nltk.download('stopwords')

def essay_to_wordlist (essay_v):
    essay_v = re.sub("[^a-zA-Z]", " ", essay_v)
    words = essay_v.lower().split()
    stops = set(stopwords.words("english"))
    words = [w for w in words if not w in stops]
    return (words)

#Tokenize the senstences and call essay_to_wordlist() for word tokenization.
def essay_to_sentences (essay_v):
    tokenizer = nltk.data.load('tokenizers/punkt/english.pickle')
    raw_sentences = tokenizer.tokenize(essay_v.strip())
    sentences = []
    if len(raw_sentence) > 0:
        sentences.append(essay_to_wordlist(raw_sentence))
    return sentences


#Feature vector is made from the words list of an essay.
def make Featurevec (words, model, num_features):
    featureVec =  np.zeros((num_features,),dtype="float32")
    num_words = 0.
    index2word_set= set (model.wv.index2word)
    for word in words:
        if word in index2word_set:
            num_words += 1
            featurevec = np.add(featurevec, model[word])
    featurevec = np.divide (featureVec,num_words)
    return featureVec



#word vectors are generated for Word2Vec model

def getAvgFeaturevecs (essays, model, num_features):
    counter = e
    essayFeaturevecs = np.zeros((len(essays), num_features), dtype="float32")
    for essay in essays:
        essayFeaturevecs[counter] = makeFeaturevec (essay, model, num features)
        counter = counter +1
    return essayFeatureVecs
